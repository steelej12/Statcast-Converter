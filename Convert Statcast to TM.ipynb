{
 "cells": [
  {
   "cell_type": "code",
   "execution_count": null,
   "metadata": {},
   "outputs": [],
   "source": [
    "import pandas as pd\n",
    "from pybaseball import statcast"
   ]
  },
  {
   "cell_type": "code",
   "execution_count": null,
   "metadata": {},
   "outputs": [],
   "source": [
    "df = statcast(start_dt='2023-03-30', end_dt='2023-03-28')"
   ]
  },
  {
   "cell_type": "code",
   "execution_count": null,
   "metadata": {},
   "outputs": [],
   "source": [
    "df = df[['player_name','pitch_type','release_speed','release_pos_z','description','release_spin_rate','release_extension','plate_x','plate_z','pfx_x','pfx_z']]"
   ]
  },
  {
   "cell_type": "code",
   "execution_count": null,
   "metadata": {},
   "outputs": [],
   "source": [
    "#creating a new column for the vertical and horizontal break in inches\n",
    "df.assign(pfx_z=df['pfx_z']*12)\n",
    "df.assign(pfx_x=df['pfx_x']*12)\n",
    "df.insert(5, 'Vertical Break', df['pfx_z']*12)\n",
    "df.insert(6, 'Horizontal Break', df['pfx_x']*12)"
   ]
  },
  {
   "cell_type": "code",
   "execution_count": null,
   "metadata": {},
   "outputs": [],
   "source": [
    "#remove p_throws column\n",
    "df = df.drop(columns=['p_throws'])\n",
    "#drop pfx_z and pfx_x columns\n",
    "df = df.drop(columns=['pfx_z'])\n",
    "df = df.drop(columns=['pfx_x'])"
   ]
  },
  {
   "cell_type": "code",
   "execution_count": null,
   "metadata": {},
   "outputs": [],
   "source": [
    "df.head()"
   ]
  },
  {
   "cell_type": "code",
   "execution_count": null,
   "metadata": {},
   "outputs": [],
   "source": [
    "#rename columns to match dft = df[['Pitcher','TaggedPitchType','PitchCall','RelSpeed', 'SpinRate','Tilt','RelHeight','Extension','InducedVertBreak','HorzBreak','Date','PlateLocSide','PlateLocHeight']]\n",
    "#drop release_pos_x\n",
    "df = df.drop(columns=['release_pos_x'])\n",
    "df = df.rename(columns={'player_name':'Pitcher','pitch_type':'TaggedPitchType','description':'PitchCall','release_speed':'RelSpeed','release_spin_rate':'SpinRate','release_extension':'Extension','plate_x':'PlateLocSide','plate_z':'PlateLocHeight','pfx_x':'HorzBreak','pfx_z':'InducedVertBreak','release_pos_z':'RelHeight'})\n",
    "df"
   ]
  },
  {
   "cell_type": "code",
   "execution_count": null,
   "metadata": {},
   "outputs": [],
   "source": [
    "#pitchcall unique values\n",
    "df.PitchCall.unique()"
   ]
  },
  {
   "cell_type": "code",
   "execution_count": null,
   "metadata": {},
   "outputs": [],
   "source": [
    "#change swinign_strike to strike\n",
    "df['PitchCall'] = df['PitchCall'].replace(['swinging_strike'],'StrikeSwinging')\n",
    "df['PitchCall'] = df['PitchCall'].replace(['called_strike'],'StrikeCalled')\n",
    "df['PitchCall'] = df['PitchCall'].replace(['foul'],'FoulBall')\n",
    "df['PitchCall'] = df['PitchCall'].replace(['hit_into_play'],'InPlay')\n",
    "df['PitchCall'] = df['PitchCall'].replace(['hit_into_play_no_out'],'InPlay')\n",
    "df['PitchCall'] = df['PitchCall'].replace(['hit_into_play_score'],'InPlay')\n",
    "df['PitchCall'] = df['PitchCall'].replace(['blocked_ball'],'BallinDirt')\n",
    "df['PitchCall'] = df['PitchCall'].replace(['ball'],'BallCalled')\n",
    "df['PitchCall'] = df['PitchCall'].replace(['hit_by_pitch'],'HitByPitch')\n",
    "df['PitchCall'] = df['PitchCall'].replace(['pitchout'],'BallCalled')\n",
    "df['PitchCall'] = df['PitchCall'].replace(['intent_ball'],'BallCalled')\n",
    "df['PitchCall'] = df['PitchCall'].replace(['missed_bunt'],'StrikeCalled')\n",
    "df['PitchCall'] = df['PitchCall'].replace(['bunt_foul_tip'],'StrikeSwinging')\n",
    "df['PitchCall'] = df['PitchCall'].replace(['pitchout_hit_into_play'],'InPlay')\n",
    "df['PitchCall'] = df['PitchCall'].replace(['foul_tip'],'StrikeSwinging')\n",
    "df['PitchCall'] = df['PitchCall'].replace(['swinging_strike_blocked'],'StrikeSwinging')\n",
    "df['PitchCall'] = df['PitchCall'].replace(['automatic_ball'],'BallCalled')\n"
   ]
  },
  {
   "cell_type": "code",
   "execution_count": null,
   "metadata": {},
   "outputs": [],
   "source": [
    "df.head()"
   ]
  },
  {
   "cell_type": "code",
   "execution_count": null,
   "metadata": {},
   "outputs": [],
   "source": [
    "#remove events\n",
    "df = df.drop(columns=['events'])"
   ]
  },
  {
   "cell_type": "code",
   "execution_count": null,
   "metadata": {},
   "outputs": [],
   "source": [
    "#rename horizontal break and vertical break\n",
    "df = df.rename(columns={'Horizontal Break':'HorzBreak','Vertical Break':'InducedVertBreak'})"
   ]
  },
  {
   "cell_type": "code",
   "execution_count": null,
   "metadata": {},
   "outputs": [],
   "source": [
    "#multuply Horizontal break by -1\n",
    "df['HorzBreak'] = df['HorzBreak'] * -1"
   ]
  },
  {
   "cell_type": "code",
   "execution_count": null,
   "metadata": {},
   "outputs": [],
   "source": [
    "df.head()"
   ]
  },
  {
   "cell_type": "code",
   "execution_count": null,
   "metadata": {},
   "outputs": [],
   "source": [
    "#tagged pitch type unique values\n",
    "df.TaggedPitchType.unique()"
   ]
  },
  {
   "cell_type": "code",
   "execution_count": null,
   "metadata": {},
   "outputs": [],
   "source": [
    "#rename CH to Changeup\n",
    "df['TaggedPitchType'] = df['TaggedPitchType'].replace(['CH'],'ChangeUp')\n",
    "df['TaggedPitchType'] = df['TaggedPitchType'].replace(['CU'],'Curveball')\n",
    "df['TaggedPitchType'] = df['TaggedPitchType'].replace(['FC'],'Cutter')\n",
    "df['TaggedPitchType'] = df['TaggedPitchType'].replace(['FF'],'FourSeamFastball')\n",
    "df['TaggedPitchType'] = df['TaggedPitchType'].replace(['FT'],'TwoSeamFastball')\n",
    "df['TaggedPitchType'] = df['TaggedPitchType'].replace(['KC'],'Curveball')\n",
    "df['TaggedPitchType'] = df['TaggedPitchType'].replace(['SI'],'Sinker')\n",
    "df['TaggedPitchType'] = df['TaggedPitchType'].replace(['SL'],'Slider')\n",
    "df['TaggedPitchType'] = df['TaggedPitchType'].replace(['ST'],'Slider')\n",
    "df['TaggedPitchType'] = df['TaggedPitchType'].replace(['FS'],'Splitter')\n",
    "df['TaggedPitchType'] = df['TaggedPitchType'].replace(['KN'],'Knuckleball')\n",
    "df['TaggedPitchType'] = df['TaggedPitchType'].replace(['EP'],'Eephus')\n",
    "df['TaggedPitchType'] = df['TaggedPitchType'].replace(['FO'],'PitchOut')\n",
    "df['TaggedPitchType'] = df['TaggedPitchType'].replace(['PO'],'PitchOut')\n",
    "df['TaggedPitchType'] = df['TaggedPitchType'].replace(['SC'],'Screwball')\n",
    "df['TaggedPitchType'] = df['TaggedPitchType'].replace(['UN'],'Unidentified')\n",
    "#drop rows with Knuckleball, Eephus, Screwball, Unidentified, PitchOut,\n",
    "df = df[df.TaggedPitchType != 'Knuckleball']\n",
    "df = df[df.TaggedPitchType != 'Eephus']\n",
    "df = df[df.TaggedPitchType != 'Screwball']\n",
    "df = df[df.TaggedPitchType != 'Unidentified']\n",
    "df = df[df.TaggedPitchType != 'PitchOut']\n"
   ]
  },
  {
   "cell_type": "code",
   "execution_count": null,
   "metadata": {},
   "outputs": [],
   "source": [
    "df.head()"
   ]
  },
  {
   "cell_type": "code",
   "execution_count": null,
   "metadata": {},
   "outputs": [],
   "source": [
    "#remove rows with NaN\n",
    "df = df.dropna()\n",
    "#invert PlateLocSide\n",
    "df['PlateLocSide'] = df['PlateLocSide'] * -1\n"
   ]
  },
  {
   "cell_type": "code",
   "execution_count": null,
   "metadata": {},
   "outputs": [],
   "source": [
    "#export to csv\n",
    "df.to_csv('mlb.csv', index=False)"
   ]
  }
 ],
 "metadata": {
  "kernelspec": {
   "display_name": "base",
   "language": "python",
   "name": "python3"
  },
  "language_info": {
   "codemirror_mode": {
    "name": "ipython",
    "version": 3
   },
   "file_extension": ".py",
   "mimetype": "text/x-python",
   "name": "python",
   "nbconvert_exporter": "python",
   "pygments_lexer": "ipython3",
   "version": "3.9.13"
  },
  "orig_nbformat": 4
 },
 "nbformat": 4,
 "nbformat_minor": 2
}
